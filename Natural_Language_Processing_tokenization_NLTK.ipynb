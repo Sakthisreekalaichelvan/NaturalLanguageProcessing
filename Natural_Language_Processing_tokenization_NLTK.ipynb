{
  "nbformat": 4,
  "nbformat_minor": 0,
  "metadata": {
    "colab": {
      "provenance": []
    },
    "kernelspec": {
      "name": "python3",
      "display_name": "Python 3"
    },
    "language_info": {
      "name": "python"
    }
  },
  "cells": [
    {
      "cell_type": "code",
      "execution_count": 1,
      "metadata": {
        "colab": {
          "base_uri": "https://localhost:8080/"
        },
        "id": "2f7ufsRo69rE",
        "outputId": "711b29bf-a3f0-465a-c640-e971c9e3e055"
      },
      "outputs": [
        {
          "output_type": "stream",
          "name": "stdout",
          "text": [
            "Requirement already satisfied: nltk in /usr/local/lib/python3.11/dist-packages (3.9.1)\n",
            "Requirement already satisfied: click in /usr/local/lib/python3.11/dist-packages (from nltk) (8.2.1)\n",
            "Requirement already satisfied: joblib in /usr/local/lib/python3.11/dist-packages (from nltk) (1.5.1)\n",
            "Requirement already satisfied: regex>=2021.8.3 in /usr/local/lib/python3.11/dist-packages (from nltk) (2024.11.6)\n",
            "Requirement already satisfied: tqdm in /usr/local/lib/python3.11/dist-packages (from nltk) (4.67.1)\n"
          ]
        }
      ],
      "source": [
        "pip install nltk"
      ]
    },
    {
      "cell_type": "code",
      "source": [
        "#Corpus\n",
        "corpus = \"\"\"Hello Welcome, to NLP Practicals.\n",
        "Please do practice all the exercises! to become a pro in NLP.\n",
        "This is my Subject's notes.\"\"\"\n",
        "print(corpus)"
      ],
      "metadata": {
        "colab": {
          "base_uri": "https://localhost:8080/"
        },
        "id": "Qo9hpcHi7JuD",
        "outputId": "3a4fcc90-cd05-416a-c335-02192390b2ba"
      },
      "execution_count": 21,
      "outputs": [
        {
          "output_type": "stream",
          "name": "stdout",
          "text": [
            "Hello Welcome, to NLP Practicals.\n",
            "Please do practice all the exercises! to become a pro in NLP. \n",
            "This is my Subject's notes.\n"
          ]
        }
      ]
    },
    {
      "cell_type": "code",
      "source": [
        "#Tokenization1\n",
        "#Paragraphs to sentence\n",
        "import nltk\n",
        "nltk.download('punkt')\n",
        "from nltk.tokenize import sent_tokenize\n",
        "documents=sent_tokenize(corpus) #different languages also available\n",
        "type(documents)"
      ],
      "metadata": {
        "colab": {
          "base_uri": "https://localhost:8080/"
        },
        "id": "noJFedkO7RX0",
        "outputId": "0b6b2fbb-394b-4060-eeee-69a3ee1b533a"
      },
      "execution_count": 22,
      "outputs": [
        {
          "output_type": "stream",
          "name": "stderr",
          "text": [
            "[nltk_data] Downloading package punkt to /root/nltk_data...\n",
            "[nltk_data]   Package punkt is already up-to-date!\n"
          ]
        },
        {
          "output_type": "execute_result",
          "data": {
            "text/plain": [
              "list"
            ]
          },
          "metadata": {},
          "execution_count": 22
        }
      ]
    },
    {
      "cell_type": "code",
      "source": [
        "for sent in documents:\n",
        "  print(sent)"
      ],
      "metadata": {
        "colab": {
          "base_uri": "https://localhost:8080/"
        },
        "id": "lG_ppzDu7R2r",
        "outputId": "b51c074f-5219-40c1-9f76-4165d603d36b"
      },
      "execution_count": 23,
      "outputs": [
        {
          "output_type": "stream",
          "name": "stdout",
          "text": [
            "Hello Welcome, to NLP Practicals.\n",
            "Please do practice all the exercises!\n",
            "to become a pro in NLP.\n",
            "This is my Subject's notes.\n"
          ]
        }
      ]
    },
    {
      "cell_type": "code",
      "source": [
        "#Tokenization2\n",
        "#Paragraph/sentence to words\n",
        "from nltk.tokenize import word_tokenize\n",
        "words = word_tokenize(corpus)\n",
        "type(words)"
      ],
      "metadata": {
        "colab": {
          "base_uri": "https://localhost:8080/"
        },
        "id": "ZkTEoxGL7SVW",
        "outputId": "196056ca-bffd-4c61-efde-8be2d0f4fd62"
      },
      "execution_count": 24,
      "outputs": [
        {
          "output_type": "execute_result",
          "data": {
            "text/plain": [
              "list"
            ]
          },
          "metadata": {},
          "execution_count": 24
        }
      ]
    },
    {
      "cell_type": "code",
      "source": [
        "for word in words:\n",
        "  print(word)"
      ],
      "metadata": {
        "colab": {
          "base_uri": "https://localhost:8080/"
        },
        "id": "rrUogwuT-Vjk",
        "outputId": "582debe8-6e20-484f-af09-07ea1e32acde"
      },
      "execution_count": 25,
      "outputs": [
        {
          "output_type": "stream",
          "name": "stdout",
          "text": [
            "Hello\n",
            "Welcome\n",
            ",\n",
            "to\n",
            "NLP\n",
            "Practicals\n",
            ".\n",
            "Please\n",
            "do\n",
            "practice\n",
            "all\n",
            "the\n",
            "exercises\n",
            "!\n",
            "to\n",
            "become\n",
            "a\n",
            "pro\n",
            "in\n",
            "NLP\n",
            ".\n",
            "This\n",
            "is\n",
            "my\n",
            "Subject\n",
            "'s\n",
            "notes\n",
            ".\n"
          ]
        }
      ]
    },
    {
      "cell_type": "code",
      "source": [
        "for sent in documents:\n",
        "  print(word_tokenize(sent))"
      ],
      "metadata": {
        "colab": {
          "base_uri": "https://localhost:8080/"
        },
        "id": "X6zPG5sB-dl4",
        "outputId": "0bcd50df-e657-445d-db0d-e0695dd0754c"
      },
      "execution_count": 17,
      "outputs": [
        {
          "output_type": "stream",
          "name": "stdout",
          "text": [
            "['Hello', 'Welcome', ',', 'to', 'NLP', 'Practicals', '.']\n",
            "['Please', 'do', 'practice', 'all', 'the', 'exercises', '!']\n",
            "['to', 'become', 'a', 'pro', 'in', 'NLP', '.']\n",
            "['This', 'is', 'my', 'Subject', \"'s\", 'notes']\n"
          ]
        }
      ]
    },
    {
      "cell_type": "code",
      "source": [
        "#Punct Tokenize\n",
        "from nltk.tokenize import wordpunct_tokenize\n",
        "wordpunct_tokenize(corpus) #'s will also get split"
      ],
      "metadata": {
        "colab": {
          "base_uri": "https://localhost:8080/"
        },
        "id": "IKWjWjOZ-5dy",
        "outputId": "79a94ce5-520f-49eb-d509-0bd06023f13b"
      },
      "execution_count": 19,
      "outputs": [
        {
          "output_type": "execute_result",
          "data": {
            "text/plain": [
              "['Hello',\n",
              " 'Welcome',\n",
              " ',',\n",
              " 'to',\n",
              " 'NLP',\n",
              " 'Practicals',\n",
              " '.',\n",
              " 'Please',\n",
              " 'do',\n",
              " 'practice',\n",
              " 'all',\n",
              " 'the',\n",
              " 'exercises',\n",
              " '!',\n",
              " 'to',\n",
              " 'become',\n",
              " 'a',\n",
              " 'pro',\n",
              " 'in',\n",
              " 'NLP',\n",
              " '.',\n",
              " 'This',\n",
              " 'is',\n",
              " 'my',\n",
              " 'Subject',\n",
              " \"'\",\n",
              " 's',\n",
              " 'notes']"
            ]
          },
          "metadata": {},
          "execution_count": 19
        }
      ]
    },
    {
      "cell_type": "code",
      "source": [
        "#TreeBankWordTokenizer\n",
        "from nltk.tokenize import TreebankWordTokenizer\n",
        "tokenizer = TreebankWordTokenizer()\n",
        "tokenizer.tokenize(corpus) #Full stop considered as separate word in this while in others only the last full stop will be considered a separate word"
      ],
      "metadata": {
        "colab": {
          "base_uri": "https://localhost:8080/"
        },
        "id": "1ZFZUPLY_Y1G",
        "outputId": "ca0b9acd-0cd9-49c2-d249-eda43eea9abe"
      },
      "execution_count": 20,
      "outputs": [
        {
          "output_type": "execute_result",
          "data": {
            "text/plain": [
              "['Hello',\n",
              " 'Welcome',\n",
              " ',',\n",
              " 'to',\n",
              " 'NLP',\n",
              " 'Practicals.',\n",
              " 'Please',\n",
              " 'do',\n",
              " 'practice',\n",
              " 'all',\n",
              " 'the',\n",
              " 'exercises',\n",
              " '!',\n",
              " 'to',\n",
              " 'become',\n",
              " 'a',\n",
              " 'pro',\n",
              " 'in',\n",
              " 'NLP.',\n",
              " 'This',\n",
              " 'is',\n",
              " 'my',\n",
              " 'Subject',\n",
              " \"'s\",\n",
              " 'notes']"
            ]
          },
          "metadata": {},
          "execution_count": 20
        }
      ]
    }
  ]
}