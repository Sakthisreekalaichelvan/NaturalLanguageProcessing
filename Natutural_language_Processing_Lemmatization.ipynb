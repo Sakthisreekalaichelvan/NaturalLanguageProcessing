{
  "nbformat": 4,
  "nbformat_minor": 0,
  "metadata": {
    "colab": {
      "provenance": []
    },
    "kernelspec": {
      "name": "python3",
      "display_name": "Python 3"
    },
    "language_info": {
      "name": "python"
    }
  },
  "cells": [
    {
      "cell_type": "markdown",
      "source": [
        "# Lemmatization"
      ],
      "metadata": {
        "id": "j7ivbbNB3Eqh"
      }
    },
    {
      "cell_type": "markdown",
      "source": [
        "1. It is similar to stemming.\n",
        "2. The output we get after lemmatization is called lemma which is the root word\n",
        "(In stemming we get the stem word, now in lemmmatization we get the root word)\n",
        "3. Give exact form of the word that gives the meaning."
      ],
      "metadata": {
        "id": "MrwwFI4R3IHr"
      }
    },
    {
      "cell_type": "markdown",
      "source": [
        "# WordNetLemmatizer"
      ],
      "metadata": {
        "id": "_MIDvFH34QUR"
      }
    },
    {
      "cell_type": "markdown",
      "source": [
        "1. NLTK provides WordNetLemmatizer class(thin wrapper around wordnet corpus).\n",
        "2. This uses morph() function to WordNet CorpusReader class to find the lemma(root word)."
      ],
      "metadata": {
        "id": "WbW0DF4r4Y7B"
      }
    },
    {
      "cell_type": "code",
      "source": [
        "import nltk\n",
        "from nltk.stem import WordNetLemmatizer\n",
        "nltk.download('wordnet')\n",
        "lemmatizer = WordNetLemmatizer()\n",
        "lemmatizer.lemmatize(\"going\")"
      ],
      "metadata": {
        "colab": {
          "base_uri": "https://localhost:8080/",
          "height": 53
        },
        "id": "ePKNISkP4MU7",
        "outputId": "59639713-5e95-4b8b-a538-d1459afb07ab"
      },
      "execution_count": 4,
      "outputs": [
        {
          "output_type": "stream",
          "name": "stderr",
          "text": [
            "[nltk_data] Downloading package wordnet to /root/nltk_data...\n"
          ]
        },
        {
          "output_type": "execute_result",
          "data": {
            "text/plain": [
              "'going'"
            ],
            "application/vnd.google.colaboratory.intrinsic+json": {
              "type": "string"
            }
          },
          "metadata": {},
          "execution_count": 4
        }
      ]
    },
    {
      "cell_type": "markdown",
      "source": [
        "It also takes another argument called postag and we have to specify it\n",
        "\n",
        "1. Noun - n\n",
        "2. Verb - v\n",
        "3. Adjective - a\n",
        "4. Adverb - r\n",
        "........"
      ],
      "metadata": {
        "id": "-LnfWtFx56nJ"
      }
    },
    {
      "cell_type": "code",
      "source": [
        "lemmatizer.lemmatize(\"going\",pos='v')"
      ],
      "metadata": {
        "colab": {
          "base_uri": "https://localhost:8080/",
          "height": 36
        },
        "id": "JMVrBTGe56Pd",
        "outputId": "4ef65c3d-06fc-44bb-9e58-1d786a20ebd3"
      },
      "execution_count": 5,
      "outputs": [
        {
          "output_type": "execute_result",
          "data": {
            "text/plain": [
              "'go'"
            ],
            "application/vnd.google.colaboratory.intrinsic+json": {
              "type": "string"
            }
          },
          "metadata": {},
          "execution_count": 5
        }
      ]
    },
    {
      "cell_type": "code",
      "source": [
        "#Define Corpus\n",
        "corpus=[\"eating\",\"eats\",\"eaten\",\"writing\",\"writes\",\"programming\",\"programs\",\"history\",\"finally\",\"finalize\"]"
      ],
      "metadata": {
        "id": "GoNQOdic6pPL"
      },
      "execution_count": 6,
      "outputs": []
    },
    {
      "cell_type": "code",
      "source": [
        "for word in corpus:\n",
        "  print(word + \"------>\" + lemmatizer.lemmatize(word))"
      ],
      "metadata": {
        "colab": {
          "base_uri": "https://localhost:8080/"
        },
        "id": "qW2T0Ovn7DIr",
        "outputId": "cc5025bd-4b34-45ca-b3a7-d4c63176ded7"
      },
      "execution_count": 7,
      "outputs": [
        {
          "output_type": "stream",
          "name": "stdout",
          "text": [
            "eating------>eating\n",
            "eats------>eats\n",
            "eaten------>eaten\n",
            "writing------>writing\n",
            "writes------>writes\n",
            "programming------>programming\n",
            "programs------>program\n",
            "history------>history\n",
            "finally------>finally\n",
            "finalize------>finalize\n"
          ]
        }
      ]
    },
    {
      "cell_type": "markdown",
      "source": [
        "By default it considers ps as noun"
      ],
      "metadata": {
        "id": "qqlKiEJY-P0N"
      }
    },
    {
      "cell_type": "code",
      "source": [
        "for word in corpus:\n",
        "  print(word + \"------>\" + lemmatizer.lemmatize(word,pos='n'))"
      ],
      "metadata": {
        "colab": {
          "base_uri": "https://localhost:8080/"
        },
        "id": "yK2pcVRe7huS",
        "outputId": "64ba9d12-44c1-4d89-ff3c-03938054414f"
      },
      "execution_count": 8,
      "outputs": [
        {
          "output_type": "stream",
          "name": "stdout",
          "text": [
            "eating------>eating\n",
            "eats------>eats\n",
            "eaten------>eaten\n",
            "writing------>writing\n",
            "writes------>writes\n",
            "programming------>programming\n",
            "programs------>program\n",
            "history------>history\n",
            "finally------>finally\n",
            "finalize------>finalize\n"
          ]
        }
      ]
    },
    {
      "cell_type": "code",
      "source": [
        "for word in corpus:\n",
        "  print(word + \"------>\" + lemmatizer.lemmatize(word,pos='v'))"
      ],
      "metadata": {
        "colab": {
          "base_uri": "https://localhost:8080/"
        },
        "id": "4J3eI7E2-fNo",
        "outputId": "56eef0d3-bfcd-4bbf-ad9a-18dd1322b46b"
      },
      "execution_count": 9,
      "outputs": [
        {
          "output_type": "stream",
          "name": "stdout",
          "text": [
            "eating------>eat\n",
            "eats------>eat\n",
            "eaten------>eat\n",
            "writing------>write\n",
            "writes------>write\n",
            "programming------>program\n",
            "programs------>program\n",
            "history------>history\n",
            "finally------>finally\n",
            "finalize------>finalize\n"
          ]
        }
      ]
    },
    {
      "cell_type": "markdown",
      "source": [
        "WordNetLemmatizer takes more time than stemming because it use morph() function to the Wordnet CorpusReader for comparison which takes more time.\n",
        "Use Cases:\n",
        "1. Q/A\n",
        "2. Chatbots\n",
        "3. Text Summarization"
      ],
      "metadata": {
        "id": "EELv9upX_Sx9"
      }
    }
  ]
}