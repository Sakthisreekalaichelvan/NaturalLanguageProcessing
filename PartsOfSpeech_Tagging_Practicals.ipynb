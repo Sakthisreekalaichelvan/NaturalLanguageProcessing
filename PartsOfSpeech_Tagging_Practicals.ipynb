{
  "nbformat": 4,
  "nbformat_minor": 0,
  "metadata": {
    "colab": {
      "provenance": []
    },
    "kernelspec": {
      "name": "python3",
      "display_name": "Python 3"
    },
    "language_info": {
      "name": "python"
    }
  },
  "cells": [
    {
      "cell_type": "markdown",
      "source": [
        "# PartsOfSpeech Tagging"
      ],
      "metadata": {
        "id": "yuHRULBBA-g6"
      }
    },
    {
      "cell_type": "markdown",
      "source": [
        "1. Taj Mahal is a beautiful Monument"
      ],
      "metadata": {
        "id": "CRdIcurgBF8p"
      }
    },
    {
      "cell_type": "markdown",
      "source": [
        "1. CC - coordinating conjunction\n",
        "2. CD - cardinal digit\n",
        "3. DT - determiner\n",
        "4. EX - existential (there)\n",
        "5. FW - foreign word\n",
        "6. IN - preposition/subordinating conjunction\n",
        "7. JJ - adjective 'big'\n",
        "8. JJR - adjective, comparative'bigger'\n",
        "9. JJS - adjective, superlative 'biggest'\n",
        "10. LS list marker 1\n",
        "11. MD modal - could, will\n",
        "12. NN - noun, singular 'desk'\n",
        "13. NNS - noun plural 'desks'\n",
        "14. NNP proper noun, singular - 'Harrison'\n",
        "15. NNPS - proper noun, plural\n",
        "16. PDT - predeterminer - 'all the kids'\n",
        "17. POS possessive pronoun - 'your'\n",
        "18. PRP - personal pronoun -'I'\n",
        "19. PRP(dollar) - possessive pronoun -'my','his','hers'\n",
        "20. RB - adverb\n",
        "21. RBR - adverb, comparative - 'better'\n",
        "22. RBS - adverb, superlative - 'best'\n",
        "23. TO - to go 'to' the store\n",
        "24. UH - interjection errrrrrrrm\n",
        "25. VB - verb base form 'take'\n",
        "26. VBD - verb, past tense - took\n",
        "27. VBG - verb, gerund/present participle - taking\n",
        "28. VBN - verb, past participle - taken\n",
        "29. VBP - verb, sing. present , non-3d - take\n",
        "30. VBZ - verb, 3rd person sing. present - takes\n",
        "31. WDT wh - determiner - which\n",
        "32. WP wh - determiner - who, what\n",
        "33. WP$ possessive wh-pronoun, eg.whose\n",
        "34. WRB wh - adverb - where, when"
      ],
      "metadata": {
        "id": "yDeI9iobGv1x"
      }
    },
    {
      "cell_type": "code",
      "source": [
        "corpus = \"\"\"The living and the non-living together constitute the environment. Environment makes life possible on earth, providing the means for existence. However, living beings do not appreciate the environment well enough. Environmental health is on a rapid decline. What started with using natural resources like wood, fossil fuels, and water balance has gotten so out of hand that natural resources are at the brink of vanishing forever.\n",
        "\n",
        "Pollution caused by man is the most significant reason for the environment’s degradation. Water, land, soil, and noise pollution are toxic to the environment. Throwing out garbage here and there, washing clothes and dishes in the pond and river water using chemical soap causes water pollution. As a result, the creatures living in the water end up dying.\n",
        "\n",
        "The increase in vehicles on the road causes air pollution, and it causes a spike in gases like CO2 and SO2 (greenhouse gases) that cause acid rain, which destroys buildings and monuments. Continuous honking on the roads by vehicles results in noise pollution. Pollution affects the environment and harms us, and it affects our health and causes various cardiac and respiratory diseases. If environmental pollution is not controlled, living on earth will become tougher, and finally, it will lead to the destruction of humankind.\n",
        "\"\"\"\n",
        "corpus"
      ],
      "metadata": {
        "id": "0-x2SsREBdmJ",
        "colab": {
          "base_uri": "https://localhost:8080/",
          "height": 296
        },
        "outputId": "4323fe29-59f2-4a79-95ee-7e45f779abc3"
      },
      "execution_count": null,
      "outputs": [
        {
          "output_type": "execute_result",
          "data": {
            "text/plain": [
              "'The living and the non-living together constitute the environment. Environment makes life possible on earth, providing the means for existence. However, living beings do not appreciate the environment well enough. Environmental health is on a rapid decline. What started with using natural resources like wood, fossil fuels, and water balance has gotten so out of hand that natural resources are at the brink of vanishing forever.\\n\\nPollution caused by man is the most significant reason for the environment’s degradation. Water, land, soil, and noise pollution are toxic to the environment. Throwing out garbage here and there, washing clothes and dishes in the pond and river water using chemical soap causes water pollution. As a result, the creatures living in the water end up dying.\\n\\nThe increase in vehicles on the road causes air pollution, and it causes a spike in gases like CO2 and SO2 (greenhouse gases) that cause acid rain, which destroys buildings and monuments. Continuous honking on the roads by vehicles results in noise pollution. Pollution affects the environment and harms us, and it affects our health and causes various cardiac and respiratory diseases. If environmental pollution is not controlled, living on earth will become tougher, and finally, it will lead to the destruction of humankind.\\n'"
            ],
            "application/vnd.google.colaboratory.intrinsic+json": {
              "type": "string"
            }
          },
          "metadata": {},
          "execution_count": 1
        }
      ]
    },
    {
      "cell_type": "code",
      "source": [
        "import nltk\n",
        "nltk.download('punkt_tab')\n",
        "sentences = nltk.sent_tokenize(corpus)\n",
        "sentences"
      ],
      "metadata": {
        "colab": {
          "base_uri": "https://localhost:8080/"
        },
        "id": "i9umSuHMJT-f",
        "outputId": "0ec772d4-fc33-4531-d3ca-7b8b29647ca6"
      },
      "execution_count": null,
      "outputs": [
        {
          "output_type": "stream",
          "name": "stderr",
          "text": [
            "[nltk_data] Downloading package punkt_tab to /root/nltk_data...\n",
            "[nltk_data]   Unzipping tokenizers/punkt_tab.zip.\n"
          ]
        },
        {
          "output_type": "execute_result",
          "data": {
            "text/plain": [
              "['The living and the non-living together constitute the environment.',\n",
              " 'Environment makes life possible on earth, providing the means for existence.',\n",
              " 'However, living beings do not appreciate the environment well enough.',\n",
              " 'Environmental health is on a rapid decline.',\n",
              " 'What started with using natural resources like wood, fossil fuels, and water balance has gotten so out of hand that natural resources are at the brink of vanishing forever.',\n",
              " 'Pollution caused by man is the most significant reason for the environment’s degradation.',\n",
              " 'Water, land, soil, and noise pollution are toxic to the environment.',\n",
              " 'Throwing out garbage here and there, washing clothes and dishes in the pond and river water using chemical soap causes water pollution.',\n",
              " 'As a result, the creatures living in the water end up dying.',\n",
              " 'The increase in vehicles on the road causes air pollution, and it causes a spike in gases like CO2 and SO2 (greenhouse gases) that cause acid rain, which destroys buildings and monuments.',\n",
              " 'Continuous honking on the roads by vehicles results in noise pollution.',\n",
              " 'Pollution affects the environment and harms us, and it affects our health and causes various cardiac and respiratory diseases.',\n",
              " 'If environmental pollution is not controlled, living on earth will become tougher, and finally, it will lead to the destruction of humankind.']"
            ]
          },
          "metadata": {},
          "execution_count": 3
        }
      ]
    },
    {
      "cell_type": "code",
      "source": [
        "#POSTAG\n",
        "from nltk.corpus import stopwords\n",
        "nltk.download('stopwords')\n",
        "nltk.download('averaged_perceptron_tagger_eng')\n",
        "for i in range(len(sentences)):\n",
        "  words = nltk.word_tokenize(sentences[i])\n",
        "  words = [word for word in words if word not in set(stopwords.words('english'))]\n",
        "  pos_tag = nltk.pos_tag(words)\n",
        "  print(pos_tag)"
      ],
      "metadata": {
        "id": "NyZllM0RJ7Ki",
        "colab": {
          "base_uri": "https://localhost:8080/"
        },
        "outputId": "1f68cca0-ba19-4e1d-8ac6-6125f68e699d"
      },
      "execution_count": 8,
      "outputs": [
        {
          "output_type": "stream",
          "name": "stderr",
          "text": [
            "[nltk_data] Downloading package stopwords to /root/nltk_data...\n",
            "[nltk_data]   Package stopwords is already up-to-date!\n",
            "[nltk_data] Downloading package averaged_perceptron_tagger_eng to\n",
            "[nltk_data]     /root/nltk_data...\n",
            "[nltk_data]   Unzipping taggers/averaged_perceptron_tagger_eng.zip.\n"
          ]
        },
        {
          "output_type": "stream",
          "name": "stdout",
          "text": [
            "[('The', 'DT'), ('living', 'NN'), ('non-living', 'JJ'), ('together', 'RB'), ('constitute', 'NN'), ('environment', 'NN'), ('.', '.')]\n",
            "[('Environment', 'NN'), ('makes', 'VBZ'), ('life', 'NN'), ('possible', 'JJ'), ('earth', 'NN'), (',', ','), ('providing', 'VBG'), ('means', 'NNS'), ('existence', 'NN'), ('.', '.')]\n",
            "[('However', 'RB'), (',', ','), ('living', 'JJ'), ('beings', 'NNS'), ('appreciate', 'VBP'), ('environment', 'NN'), ('well', 'RB'), ('enough', 'RB'), ('.', '.')]\n",
            "[('Environmental', 'JJ'), ('health', 'NN'), ('rapid', 'JJ'), ('decline', 'NN'), ('.', '.')]\n",
            "[('What', 'WP'), ('started', 'VBD'), ('using', 'VBG'), ('natural', 'JJ'), ('resources', 'NNS'), ('like', 'IN'), ('wood', 'NN'), (',', ','), ('fossil', 'JJ'), ('fuels', 'NNS'), (',', ','), ('water', 'NN'), ('balance', 'NN'), ('gotten', 'NN'), ('hand', 'NN'), ('natural', 'JJ'), ('resources', 'NNS'), ('brink', 'VBP'), ('vanishing', 'VBG'), ('forever', 'RB'), ('.', '.')]\n",
            "[('Pollution', 'NN'), ('caused', 'VBD'), ('man', 'NN'), ('significant', 'JJ'), ('reason', 'NN'), ('environment', 'NN'), ('’', 'NNP'), ('degradation', 'NN'), ('.', '.')]\n",
            "[('Water', 'NNP'), (',', ','), ('land', 'NN'), (',', ','), ('soil', 'NN'), (',', ','), ('noise', 'JJ'), ('pollution', 'NN'), ('toxic', 'NN'), ('environment', 'NN'), ('.', '.')]\n",
            "[('Throwing', 'VBG'), ('garbage', 'NN'), (',', ','), ('washing', 'VBG'), ('clothes', 'NNS'), ('dishes', 'NNS'), ('pond', 'VBP'), ('river', 'NN'), ('water', 'NN'), ('using', 'VBG'), ('chemical', 'NN'), ('soap', 'NN'), ('causes', 'VBZ'), ('water', 'NN'), ('pollution', 'NN'), ('.', '.')]\n",
            "[('As', 'IN'), ('result', 'NN'), (',', ','), ('creatures', 'VBZ'), ('living', 'VBG'), ('water', 'NN'), ('end', 'NN'), ('dying', 'NN'), ('.', '.')]\n",
            "[('The', 'DT'), ('increase', 'NN'), ('vehicles', 'NNS'), ('road', 'NN'), ('causes', 'VBZ'), ('air', 'NN'), ('pollution', 'NN'), (',', ','), ('causes', 'VBZ'), ('spike', 'JJ'), ('gases', 'NNS'), ('like', 'IN'), ('CO2', 'NNP'), ('SO2', 'NNP'), ('(', '('), ('greenhouse', 'NN'), ('gases', 'NNS'), (')', ')'), ('cause', 'VBP'), ('acid', 'JJ'), ('rain', 'NN'), (',', ','), ('destroys', 'VBZ'), ('buildings', 'NNS'), ('monuments', 'NNS'), ('.', '.')]\n",
            "[('Continuous', 'JJ'), ('honking', 'VBG'), ('roads', 'NNS'), ('vehicles', 'NNS'), ('results', 'NNS'), ('noise', 'JJ'), ('pollution', 'NN'), ('.', '.')]\n",
            "[('Pollution', 'NN'), ('affects', 'VBZ'), ('environment', 'NN'), ('harms', 'NNS'), ('us', 'PRP'), (',', ','), ('affects', 'VBZ'), ('health', 'NN'), ('causes', 'NNS'), ('various', 'JJ'), ('cardiac', 'JJ'), ('respiratory', 'NN'), ('diseases', 'NNS'), ('.', '.')]\n",
            "[('If', 'IN'), ('environmental', 'JJ'), ('pollution', 'NN'), ('controlled', 'VBD'), (',', ','), ('living', 'VBG'), ('earth', 'NN'), ('become', 'VB'), ('tougher', 'NN'), (',', ','), ('finally', 'RB'), (',', ','), ('lead', 'JJ'), ('destruction', 'NN'), ('humankind', 'NN'), ('.', '.')]\n"
          ]
        }
      ]
    },
    {
      "cell_type": "code",
      "source": [
        "sentence = \"Taj Mahal is a beautiful Monument\"\n",
        "words = nltk.word_tokenize(sentence)\n",
        "pos_tag = nltk.pos_tag(words)\n",
        "print(pos_tag)"
      ],
      "metadata": {
        "colab": {
          "base_uri": "https://localhost:8080/"
        },
        "id": "LPk8JVvvP7FD",
        "outputId": "79dc1c8e-98e7-4267-c437-e97847324961"
      },
      "execution_count": 17,
      "outputs": [
        {
          "output_type": "stream",
          "name": "stdout",
          "text": [
            "[('Taj', 'NNP'), ('Mahal', 'NNP'), ('is', 'VBZ'), ('a', 'DT'), ('beautiful', 'JJ'), ('Monument', 'NN')]\n"
          ]
        }
      ]
    }
  ]
}