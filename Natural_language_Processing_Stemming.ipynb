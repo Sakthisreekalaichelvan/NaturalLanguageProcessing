{
  "nbformat": 4,
  "nbformat_minor": 0,
  "metadata": {
    "colab": {
      "provenance": [],
      "gpuType": "T4"
    },
    "kernelspec": {
      "name": "python3",
      "display_name": "Python 3"
    },
    "language_info": {
      "name": "python"
    },
    "accelerator": "GPU"
  },
  "cells": [
    {
      "cell_type": "markdown",
      "source": [
        "# Stemming"
      ],
      "metadata": {
        "id": "isSlmY-JU_5x"
      }
    },
    {
      "cell_type": "markdown",
      "source": [
        "Process of reducing a word to its word stem that affixes to suffixes and prefixes or to the roots of words known as lemma. Important in NLU and NLP"
      ],
      "metadata": {
        "id": "-mRJ94iHVGU3"
      }
    },
    {
      "cell_type": "code",
      "execution_count": 32,
      "metadata": {
        "id": "_RNO-5mXDKfL"
      },
      "outputs": [],
      "source": [
        "#Classification problem\n",
        "#Comments of product positive/negative review\n",
        "#Reviews---->Eating,eat,eaten---->Stem/base------->Eat\n",
        "corpus = [\"eating\",\"eats\",\"eaten\",\"writing\",\"writes\",\"programming\",\"programs\",\"history\",\"finally\",\"finalize\"]"
      ]
    },
    {
      "cell_type": "markdown",
      "source": [
        "# PorterStemmer"
      ],
      "metadata": {
        "id": "o6-iwF2AK2Au"
      }
    },
    {
      "cell_type": "code",
      "source": [
        "#PorterStemmer\n",
        "from nltk.stem import PorterStemmer\n",
        "PorterStemmer = PorterStemmer()\n",
        "for word in corpus:\n",
        "   print(word + \"------>\" + PorterStemmer.stem(word))"
      ],
      "metadata": {
        "colab": {
          "base_uri": "https://localhost:8080/"
        },
        "id": "a3ROXVYuHMxk",
        "outputId": "41ee1a25-1dc7-4578-d581-a89aea75c2ef"
      },
      "execution_count": 22,
      "outputs": [
        {
          "output_type": "stream",
          "name": "stdout",
          "text": [
            "eating------>eat\n",
            "eats------>eat\n",
            "eaten------>eaten\n",
            "writing------>write\n",
            "writes------>write\n",
            "programming------>program\n",
            "programs------>program\n",
            "history------>histori\n",
            "finally------>final\n",
            "finalize------>final\n"
          ]
        }
      ]
    },
    {
      "cell_type": "code",
      "source": [
        "PorterStemmer.stem('Congratulations')"
      ],
      "metadata": {
        "colab": {
          "base_uri": "https://localhost:8080/",
          "height": 36
        },
        "id": "vFjtHRPmKJ88",
        "outputId": "e264b7dc-ac92-4de8-925e-8be3b619544c"
      },
      "execution_count": 23,
      "outputs": [
        {
          "output_type": "execute_result",
          "data": {
            "text/plain": [
              "'congratul'"
            ],
            "application/vnd.google.colaboratory.intrinsic+json": {
              "type": "string"
            }
          },
          "metadata": {},
          "execution_count": 23
        }
      ]
    },
    {
      "cell_type": "markdown",
      "source": [
        "**Disadvantage**\n",
        "1. History ------> Histori\n",
        "2. Congratulations ------> Congratul\n",
        "For some words we may not get the exact meaning. Form of that word changes and the word will not have any meaning after stemming"
      ],
      "metadata": {
        "id": "5cb_9zVcJdms"
      }
    },
    {
      "cell_type": "markdown",
      "source": [
        "**These may be solved during lemmatization**\n",
        "\n",
        "We also have other stemmers too."
      ],
      "metadata": {
        "id": "OH7xehbqKZVv"
      }
    },
    {
      "cell_type": "markdown",
      "source": [
        "# RegexpStemmer Class"
      ],
      "metadata": {
        "id": "xkw5FKBtKsSa"
      }
    },
    {
      "cell_type": "markdown",
      "source": [
        "Class with the help of which you can easily implement Regular Expression Stemmer Algorithm.\n",
        "\n",
        "It takes single regular expression and removes any prefix and suffix that are present in the expression(that matches the expression)"
      ],
      "metadata": {
        "id": "mb3KqsnjK8II"
      }
    },
    {
      "cell_type": "code",
      "source": [
        "#RegexpStemmer\n",
        "from nltk.stem import RegexpStemmer\n",
        "Regexp = RegexpStemmer('ing$|s$|e$|able$', min = 4) #Identify morphological Affixes\n",
        "Regexp.stem('speaking')"
      ],
      "metadata": {
        "colab": {
          "base_uri": "https://localhost:8080/",
          "height": 36
        },
        "id": "emjwrUEUKPJn",
        "outputId": "d3ec0e89-46f9-4cd2-c4f7-b1ee103399e4"
      },
      "execution_count": 6,
      "outputs": [
        {
          "output_type": "execute_result",
          "data": {
            "text/plain": [
              "'speak'"
            ],
            "application/vnd.google.colaboratory.intrinsic+json": {
              "type": "string"
            }
          },
          "metadata": {},
          "execution_count": 6
        }
      ]
    },
    {
      "cell_type": "code",
      "source": [
        "Regexp.stem('ingspeaking')"
      ],
      "metadata": {
        "colab": {
          "base_uri": "https://localhost:8080/",
          "height": 36
        },
        "id": "V85d_VkGOXSS",
        "outputId": "619c36ad-f80b-46d5-f1c5-1650d121952f"
      },
      "execution_count": 7,
      "outputs": [
        {
          "output_type": "execute_result",
          "data": {
            "text/plain": [
              "'ingspeak'"
            ],
            "application/vnd.google.colaboratory.intrinsic+json": {
              "type": "string"
            }
          },
          "metadata": {},
          "execution_count": 7
        }
      ]
    },
    {
      "cell_type": "code",
      "source": [
        "regexp = RegexpStemmer('ing|s$|e$|able$')"
      ],
      "metadata": {
        "id": "DdSCD0LaOx60"
      },
      "execution_count": 18,
      "outputs": []
    },
    {
      "cell_type": "markdown",
      "source": [
        "Now we will get the correct output by remocing the '$' symbol at the end of ing so that it checks at both ends and removes both prefix and suffix"
      ],
      "metadata": {
        "id": "4bSCKOSKPZm2"
      }
    },
    {
      "cell_type": "code",
      "source": [
        "regexp.stem('ingeating')"
      ],
      "metadata": {
        "colab": {
          "base_uri": "https://localhost:8080/",
          "height": 36
        },
        "id": "Kj0k8tpxPLlA",
        "outputId": "e7f0cd66-5cde-4446-c5b5-f58dd1e8f008"
      },
      "execution_count": 20,
      "outputs": [
        {
          "output_type": "execute_result",
          "data": {
            "text/plain": [
              "'ingeating'"
            ],
            "application/vnd.google.colaboratory.intrinsic+json": {
              "type": "string"
            }
          },
          "metadata": {},
          "execution_count": 20
        }
      ]
    },
    {
      "cell_type": "markdown",
      "source": [
        "# Snowball Stemmer"
      ],
      "metadata": {
        "id": "Xrcfmu5UQlF-"
      }
    },
    {
      "cell_type": "markdown",
      "source": [
        "1. Better than porter stemmer\n",
        "2. Many languages"
      ],
      "metadata": {
        "id": "3u_ipsGSQp_g"
      }
    },
    {
      "cell_type": "code",
      "source": [
        "#SnowballStemmer\n",
        "from nltk.stem import SnowballStemmer\n",
        "SnowballStemmer = SnowballStemmer('english')\n",
        "for word in corpus:\n",
        "  print(word + \"------>\" + SnowballStemmer.stem(word))"
      ],
      "metadata": {
        "colab": {
          "base_uri": "https://localhost:8080/"
        },
        "id": "arvm7-TFQ5vK",
        "outputId": "7f51647e-6283-4ad3-af64-7837e6a1ebd3"
      },
      "execution_count": 28,
      "outputs": [
        {
          "output_type": "stream",
          "name": "stdout",
          "text": [
            "eating------>eat\n",
            "eats------>eat\n",
            "eaten------>eaten\n",
            "writing------>write\n",
            "writes------>write\n",
            "programming------>program\n",
            "programs------>program\n",
            "history------>histori\n",
            "finally------>final\n",
            "finalize------>final\n"
          ]
        }
      ]
    },
    {
      "cell_type": "markdown",
      "source": [
        "# Comparison: PorterStemmer Vs SnowballStemmer"
      ],
      "metadata": {
        "id": "w7CIsQJ_R-zo"
      }
    },
    {
      "cell_type": "code",
      "source": [
        "#PosterStemmer\n",
        "print(PorterStemmer.stem('fairly'))\n",
        "print(PorterStemmer.stem('sportingly'))"
      ],
      "metadata": {
        "colab": {
          "base_uri": "https://localhost:8080/"
        },
        "id": "HAaz3V-uSMTn",
        "outputId": "53ef3bf5-49f4-4d51-9fb7-bf8a4f67f4b1"
      },
      "execution_count": 25,
      "outputs": [
        {
          "output_type": "stream",
          "name": "stdout",
          "text": [
            "fairli\n",
            "sportingli\n"
          ]
        }
      ]
    },
    {
      "cell_type": "code",
      "source": [
        "#SnowballStemmer\n",
        "print(SnowballStemmer.stem('fairly'))\n",
        "print(SnowballStemmer.stem('sportingly'))"
      ],
      "metadata": {
        "colab": {
          "base_uri": "https://localhost:8080/"
        },
        "id": "KkLe2jAFSkGL",
        "outputId": "9876b729-e8af-4d9d-c075-259c924da3c4"
      },
      "execution_count": 29,
      "outputs": [
        {
          "output_type": "stream",
          "name": "stdout",
          "text": [
            "fair\n",
            "sport\n"
          ]
        }
      ]
    },
    {
      "cell_type": "markdown",
      "source": [
        "Therefore, **SnowballStemmer** is able to perform well in comparison to **PorterStemmer**"
      ],
      "metadata": {
        "id": "8vgnCK8OTOf7"
      }
    },
    {
      "cell_type": "code",
      "source": [
        "SnowballStemmer.stem('goes')"
      ],
      "metadata": {
        "colab": {
          "base_uri": "https://localhost:8080/",
          "height": 36
        },
        "id": "OPrXL3b5Tgu4",
        "outputId": "d23454e2-5355-419e-c74c-66a742492449"
      },
      "execution_count": 30,
      "outputs": [
        {
          "output_type": "execute_result",
          "data": {
            "text/plain": [
              "'goe'"
            ],
            "application/vnd.google.colaboratory.intrinsic+json": {
              "type": "string"
            }
          },
          "metadata": {},
          "execution_count": 30
        }
      ]
    },
    {
      "cell_type": "code",
      "source": [
        "PorterStemmer.stem('goes')"
      ],
      "metadata": {
        "colab": {
          "base_uri": "https://localhost:8080/",
          "height": 36
        },
        "id": "KMppJqAATqVf",
        "outputId": "9b285c11-212e-433a-f479-e41abf036b55"
      },
      "execution_count": 31,
      "outputs": [
        {
          "output_type": "execute_result",
          "data": {
            "text/plain": [
              "'goe'"
            ],
            "application/vnd.google.colaboratory.intrinsic+json": {
              "type": "string"
            }
          },
          "metadata": {},
          "execution_count": 31
        }
      ]
    },
    {
      "cell_type": "markdown",
      "source": [
        "Stemming can work for some words bt still there are words that cannot be changes with stemming alone limiting the application to chatbots, etc..\n",
        "\n",
        "For that we go with lemmatization. It solves the problem as it has a huge dictionary of words(root words) so can change the form to any word that we give.It also gives the good grammatical form of a word."
      ],
      "metadata": {
        "id": "7Nr-s9UeT5DY"
      }
    }
  ]
}