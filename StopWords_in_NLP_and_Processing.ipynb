{
  "nbformat": 4,
  "nbformat_minor": 0,
  "metadata": {
    "colab": {
      "provenance": []
    },
    "kernelspec": {
      "name": "python3",
      "display_name": "Python 3"
    },
    "language_info": {
      "name": "python"
    }
  },
  "cells": [
    {
      "cell_type": "markdown",
      "source": [
        "StopWords\n",
        "\n",
        "Importance of Stop words\n",
        "\n",
        "Text-processing - make data in correct format\n",
        "\n",
        "Convert to vector with processing\n",
        "\n",
        "Use these vectors for internal calculation"
      ],
      "metadata": {
        "id": "TnktC0HBADtt"
      }
    },
    {
      "cell_type": "markdown",
      "source": [
        "# Stop Words"
      ],
      "metadata": {
        "id": "RlbtV91YAfOL"
      }
    },
    {
      "cell_type": "code",
      "execution_count": 6,
      "metadata": {
        "colab": {
          "base_uri": "https://localhost:8080/",
          "height": 296
        },
        "id": "SIdHi8-7_5dz",
        "outputId": "8a6f2aa1-3597-4875-f7f8-34a8c38de66d"
      },
      "outputs": [
        {
          "output_type": "execute_result",
          "data": {
            "text/plain": [
              "'The living and the non-living together constitute the environment. Environment makes life possible on earth, providing the means for existence. However, living beings do not appreciate the environment well enough. Environmental health is on a rapid decline. What started with using natural resources like wood, fossil fuels, and water balance has gotten so out of hand that natural resources are at the brink of vanishing forever.\\n\\nPollution caused by man is the most significant reason for the environment’s degradation. Water, land, soil, and noise pollution are toxic to the environment. Throwing out garbage here and there, washing clothes and dishes in the pond and river water using chemical soap causes water pollution. As a result, the creatures living in the water end up dying.\\n\\nThe increase in vehicles on the road causes air pollution, and it causes a spike in gases like CO2 and SO2 (greenhouse gases) that cause acid rain, which destroys buildings and monuments. Continuous honking on the roads by vehicles results in noise pollution. Pollution affects the environment and harms us, and it affects our health and causes various cardiac and respiratory diseases. If environmental pollution is not controlled, living on earth will become tougher, and finally, it will lead to the destruction of humankind.\\n'"
            ],
            "application/vnd.google.colaboratory.intrinsic+json": {
              "type": "string"
            }
          },
          "metadata": {},
          "execution_count": 6
        }
      ],
      "source": [
        "corpus = \"\"\"The living and the non-living together constitute the environment. Environment makes life possible on earth, providing the means for existence. However, living beings do not appreciate the environment well enough. Environmental health is on a rapid decline. What started with using natural resources like wood, fossil fuels, and water balance has gotten so out of hand that natural resources are at the brink of vanishing forever.\n",
        "\n",
        "Pollution caused by man is the most significant reason for the environment’s degradation. Water, land, soil, and noise pollution are toxic to the environment. Throwing out garbage here and there, washing clothes and dishes in the pond and river water using chemical soap causes water pollution. As a result, the creatures living in the water end up dying.\n",
        "\n",
        "The increase in vehicles on the road causes air pollution, and it causes a spike in gases like CO2 and SO2 (greenhouse gases) that cause acid rain, which destroys buildings and monuments. Continuous honking on the roads by vehicles results in noise pollution. Pollution affects the environment and harms us, and it affects our health and causes various cardiac and respiratory diseases. If environmental pollution is not controlled, living on earth will become tougher, and finally, it will lead to the destruction of humankind.\n",
        "\"\"\"\n",
        "corpus"
      ]
    },
    {
      "cell_type": "markdown",
      "source": [
        "Stop words = I, the, is, why, etc does not play a major role when doing tasks like spam classification,review classification but 'not' plays an important role."
      ],
      "metadata": {
        "id": "uC7ImlDCI3vN"
      }
    },
    {
      "cell_type": "code",
      "source": [
        "from nltk.stem import PorterStemmer\n",
        "from nltk.corpus import stopwords\n",
        "import nltk\n",
        "nltk.download('stopwords')"
      ],
      "metadata": {
        "colab": {
          "base_uri": "https://localhost:8080/"
        },
        "id": "TnNg78eGJmJd",
        "outputId": "9888218e-1969-44d3-ae95-cc3eb1f1e325"
      },
      "execution_count": 7,
      "outputs": [
        {
          "output_type": "stream",
          "name": "stderr",
          "text": [
            "[nltk_data] Downloading package stopwords to /root/nltk_data...\n",
            "[nltk_data]   Package stopwords is already up-to-date!\n"
          ]
        },
        {
          "output_type": "execute_result",
          "data": {
            "text/plain": [
              "True"
            ]
          },
          "metadata": {},
          "execution_count": 7
        }
      ]
    },
    {
      "cell_type": "code",
      "source": [
        "stopwords.words('english') #Available in many languages\n",
        "#Own list can also be created or cutomized\n",
        "#Good to use own stopwords"
      ],
      "metadata": {
        "colab": {
          "base_uri": "https://localhost:8080/"
        },
        "id": "nChS_kCaJ87G",
        "outputId": "c6322271-1746-4977-d6ec-c29896562454"
      },
      "execution_count": 8,
      "outputs": [
        {
          "output_type": "execute_result",
          "data": {
            "text/plain": [
              "['a',\n",
              " 'about',\n",
              " 'above',\n",
              " 'after',\n",
              " 'again',\n",
              " 'against',\n",
              " 'ain',\n",
              " 'all',\n",
              " 'am',\n",
              " 'an',\n",
              " 'and',\n",
              " 'any',\n",
              " 'are',\n",
              " 'aren',\n",
              " \"aren't\",\n",
              " 'as',\n",
              " 'at',\n",
              " 'be',\n",
              " 'because',\n",
              " 'been',\n",
              " 'before',\n",
              " 'being',\n",
              " 'below',\n",
              " 'between',\n",
              " 'both',\n",
              " 'but',\n",
              " 'by',\n",
              " 'can',\n",
              " 'couldn',\n",
              " \"couldn't\",\n",
              " 'd',\n",
              " 'did',\n",
              " 'didn',\n",
              " \"didn't\",\n",
              " 'do',\n",
              " 'does',\n",
              " 'doesn',\n",
              " \"doesn't\",\n",
              " 'doing',\n",
              " 'don',\n",
              " \"don't\",\n",
              " 'down',\n",
              " 'during',\n",
              " 'each',\n",
              " 'few',\n",
              " 'for',\n",
              " 'from',\n",
              " 'further',\n",
              " 'had',\n",
              " 'hadn',\n",
              " \"hadn't\",\n",
              " 'has',\n",
              " 'hasn',\n",
              " \"hasn't\",\n",
              " 'have',\n",
              " 'haven',\n",
              " \"haven't\",\n",
              " 'having',\n",
              " 'he',\n",
              " \"he'd\",\n",
              " \"he'll\",\n",
              " 'her',\n",
              " 'here',\n",
              " 'hers',\n",
              " 'herself',\n",
              " \"he's\",\n",
              " 'him',\n",
              " 'himself',\n",
              " 'his',\n",
              " 'how',\n",
              " 'i',\n",
              " \"i'd\",\n",
              " 'if',\n",
              " \"i'll\",\n",
              " \"i'm\",\n",
              " 'in',\n",
              " 'into',\n",
              " 'is',\n",
              " 'isn',\n",
              " \"isn't\",\n",
              " 'it',\n",
              " \"it'd\",\n",
              " \"it'll\",\n",
              " \"it's\",\n",
              " 'its',\n",
              " 'itself',\n",
              " \"i've\",\n",
              " 'just',\n",
              " 'll',\n",
              " 'm',\n",
              " 'ma',\n",
              " 'me',\n",
              " 'mightn',\n",
              " \"mightn't\",\n",
              " 'more',\n",
              " 'most',\n",
              " 'mustn',\n",
              " \"mustn't\",\n",
              " 'my',\n",
              " 'myself',\n",
              " 'needn',\n",
              " \"needn't\",\n",
              " 'no',\n",
              " 'nor',\n",
              " 'not',\n",
              " 'now',\n",
              " 'o',\n",
              " 'of',\n",
              " 'off',\n",
              " 'on',\n",
              " 'once',\n",
              " 'only',\n",
              " 'or',\n",
              " 'other',\n",
              " 'our',\n",
              " 'ours',\n",
              " 'ourselves',\n",
              " 'out',\n",
              " 'over',\n",
              " 'own',\n",
              " 're',\n",
              " 's',\n",
              " 'same',\n",
              " 'shan',\n",
              " \"shan't\",\n",
              " 'she',\n",
              " \"she'd\",\n",
              " \"she'll\",\n",
              " \"she's\",\n",
              " 'should',\n",
              " 'shouldn',\n",
              " \"shouldn't\",\n",
              " \"should've\",\n",
              " 'so',\n",
              " 'some',\n",
              " 'such',\n",
              " 't',\n",
              " 'than',\n",
              " 'that',\n",
              " \"that'll\",\n",
              " 'the',\n",
              " 'their',\n",
              " 'theirs',\n",
              " 'them',\n",
              " 'themselves',\n",
              " 'then',\n",
              " 'there',\n",
              " 'these',\n",
              " 'they',\n",
              " \"they'd\",\n",
              " \"they'll\",\n",
              " \"they're\",\n",
              " \"they've\",\n",
              " 'this',\n",
              " 'those',\n",
              " 'through',\n",
              " 'to',\n",
              " 'too',\n",
              " 'under',\n",
              " 'until',\n",
              " 'up',\n",
              " 've',\n",
              " 'very',\n",
              " 'was',\n",
              " 'wasn',\n",
              " \"wasn't\",\n",
              " 'we',\n",
              " \"we'd\",\n",
              " \"we'll\",\n",
              " \"we're\",\n",
              " 'were',\n",
              " 'weren',\n",
              " \"weren't\",\n",
              " \"we've\",\n",
              " 'what',\n",
              " 'when',\n",
              " 'where',\n",
              " 'which',\n",
              " 'while',\n",
              " 'who',\n",
              " 'whom',\n",
              " 'why',\n",
              " 'will',\n",
              " 'with',\n",
              " 'won',\n",
              " \"won't\",\n",
              " 'wouldn',\n",
              " \"wouldn't\",\n",
              " 'y',\n",
              " 'you',\n",
              " \"you'd\",\n",
              " \"you'll\",\n",
              " 'your',\n",
              " \"you're\",\n",
              " 'yours',\n",
              " 'yourself',\n",
              " 'yourselves',\n",
              " \"you've\"]"
            ]
          },
          "metadata": {},
          "execution_count": 8
        }
      ]
    },
    {
      "cell_type": "code",
      "source": [
        "stopwords.words('tamil')"
      ],
      "metadata": {
        "colab": {
          "base_uri": "https://localhost:8080/"
        },
        "id": "j-LXfb9OKTWl",
        "outputId": "f1f73747-6957-4568-d789-e090520b7087"
      },
      "execution_count": 9,
      "outputs": [
        {
          "output_type": "execute_result",
          "data": {
            "text/plain": [
              "['அங்கு',\n",
              " 'அங்கே',\n",
              " 'அடுத்த',\n",
              " 'அதனால்',\n",
              " 'அதன்',\n",
              " 'அதற்கு',\n",
              " 'அதிக',\n",
              " 'அதில்',\n",
              " 'அது',\n",
              " 'அதே',\n",
              " 'அதை',\n",
              " 'அந்த',\n",
              " 'அந்தக்',\n",
              " 'அந்தப்',\n",
              " 'அன்று',\n",
              " 'அல்லது',\n",
              " 'அவன்',\n",
              " 'அவரது',\n",
              " 'அவர்',\n",
              " 'அவர்கள்',\n",
              " 'அவள்',\n",
              " 'அவை',\n",
              " 'ஆகிய',\n",
              " 'ஆகியோர்',\n",
              " 'ஆகும்',\n",
              " 'இங்கு',\n",
              " 'இங்கே',\n",
              " 'இடத்தில்',\n",
              " 'இடம்',\n",
              " 'இதனால்',\n",
              " 'இதனை',\n",
              " 'இதன்',\n",
              " 'இதற்கு',\n",
              " 'இதில்',\n",
              " 'இது',\n",
              " 'இதை',\n",
              " 'இந்த',\n",
              " 'இந்தக்',\n",
              " 'இந்தத்',\n",
              " 'இந்தப்',\n",
              " 'இன்னும்',\n",
              " 'இப்போது',\n",
              " 'இரு',\n",
              " 'இருக்கும்',\n",
              " 'இருந்த',\n",
              " 'இருந்தது',\n",
              " 'இருந்து',\n",
              " 'இவர்',\n",
              " 'இவை',\n",
              " 'உன்',\n",
              " 'உள்ள',\n",
              " 'உள்ளது',\n",
              " 'உள்ளன',\n",
              " 'எந்த',\n",
              " 'என',\n",
              " 'எனக்',\n",
              " 'எனக்கு',\n",
              " 'எனப்படும்',\n",
              " 'எனவும்',\n",
              " 'எனவே',\n",
              " 'எனினும்',\n",
              " 'எனும்',\n",
              " 'என்',\n",
              " 'என்ன',\n",
              " 'என்னும்',\n",
              " 'என்பது',\n",
              " 'என்பதை',\n",
              " 'என்ற',\n",
              " 'என்று',\n",
              " 'என்றும்',\n",
              " 'எல்லாம்',\n",
              " 'ஏன்',\n",
              " 'ஒரு',\n",
              " 'ஒரே',\n",
              " 'ஓர்',\n",
              " 'கொண்ட',\n",
              " 'கொண்டு',\n",
              " 'கொள்ள',\n",
              " 'சற்று',\n",
              " 'சிறு',\n",
              " 'சில',\n",
              " 'சேர்ந்த',\n",
              " 'தனது',\n",
              " 'தன்',\n",
              " 'தவிர',\n",
              " 'தான்',\n",
              " 'நான்',\n",
              " 'நாம்',\n",
              " 'நீ',\n",
              " 'பற்றி',\n",
              " 'பற்றிய',\n",
              " 'பல',\n",
              " 'பலரும்',\n",
              " 'பல்வேறு',\n",
              " 'பின்',\n",
              " 'பின்னர்',\n",
              " 'பிற',\n",
              " 'பிறகு',\n",
              " 'பெரும்',\n",
              " 'பேர்',\n",
              " 'போது',\n",
              " 'போன்ற',\n",
              " 'போல',\n",
              " 'போல்',\n",
              " 'மட்டுமே',\n",
              " 'மட்டும்',\n",
              " 'மற்ற',\n",
              " 'மற்றும்',\n",
              " 'மிக',\n",
              " 'மிகவும்',\n",
              " 'மீது',\n",
              " 'முதல்',\n",
              " 'முறை',\n",
              " 'மேலும்',\n",
              " 'மேல்',\n",
              " 'யார்',\n",
              " 'வந்த',\n",
              " 'வந்து',\n",
              " 'வரும்',\n",
              " 'வரை',\n",
              " 'வரையில்',\n",
              " 'விட',\n",
              " 'விட்டு',\n",
              " 'வேண்டும்',\n",
              " 'வேறு']"
            ]
          },
          "metadata": {},
          "execution_count": 9
        }
      ]
    },
    {
      "cell_type": "code",
      "source": [
        "#Remove stop words to make the corpus more meaningfull\n",
        "import nltk\n",
        "nltk.download('punkt_tab')\n",
        "Stemmer = PorterStemmer()\n",
        "sentences = nltk.sent_tokenize(corpus)"
      ],
      "metadata": {
        "colab": {
          "base_uri": "https://localhost:8080/"
        },
        "id": "yCyha1fRKd23",
        "outputId": "ccdc753b-10ff-430a-ae09-3ea1264264aa"
      },
      "execution_count": 12,
      "outputs": [
        {
          "output_type": "stream",
          "name": "stderr",
          "text": [
            "[nltk_data] Downloading package punkt_tab to /root/nltk_data...\n",
            "[nltk_data]   Package punkt_tab is already up-to-date!\n"
          ]
        }
      ]
    },
    {
      "cell_type": "code",
      "source": [
        "type(sentences)"
      ],
      "metadata": {
        "colab": {
          "base_uri": "https://localhost:8080/"
        },
        "id": "QzPVwaqMLIIb",
        "outputId": "0215642c-8348-45e5-ab31-8c256e1a87ab"
      },
      "execution_count": 13,
      "outputs": [
        {
          "output_type": "execute_result",
          "data": {
            "text/plain": [
              "list"
            ]
          },
          "metadata": {},
          "execution_count": 13
        }
      ]
    },
    {
      "cell_type": "code",
      "source": [
        "#Take words that are not in stopwords and then apply stemming\n",
        "from nltk.tokenize import word_tokenize\n",
        "# Define the corpus variable here with your text data\n",
        "# corpus = \"Your text data goes here.\"\n",
        "\n",
        "for i in range(len(sentences)):\n",
        "  words = nltk.word_tokenize(sentences[i])\n",
        "  StemWords = [Stemmer.stem(word) for word in words if word not in set(stopwords.words('english'))]\n",
        "  sentences[i] = ' '.join(StemWords) #Convert all words to sentences"
      ],
      "metadata": {
        "id": "azR3c1jJLR04"
      },
      "execution_count": 17,
      "outputs": []
    },
    {
      "cell_type": "code",
      "source": [
        "sentences"
      ],
      "metadata": {
        "colab": {
          "base_uri": "https://localhost:8080/"
        },
        "id": "rG1RhXt9Mb4d",
        "outputId": "8dacac03-0840-4b6c-9f9b-f8b02fa7eb5b"
      },
      "execution_count": 18,
      "outputs": [
        {
          "output_type": "execute_result",
          "data": {
            "text/plain": [
              "['the live non-liv togeth constitut environ .',\n",
              " 'environ make life possibl earth , provid mean exist .',\n",
              " 'howev , live be appreci environ well enough .',\n",
              " 'environment health rapid declin .',\n",
              " 'what start use natur resourc like wood , fossil fuel , water balanc gotten hand natur resourc brink vanish forev .',\n",
              " 'pollut caus man signific reason environ ’ degrad .',\n",
              " 'water , land , soil , nois pollut toxic environ .',\n",
              " 'throw garbag , wash cloth dish pond river water use chemic soap caus water pollut .',\n",
              " 'as result , creatur live water end die .',\n",
              " 'the increas vehicl road caus air pollut , caus spike gase like co2 so2 ( greenhous gase ) caus acid rain , destroy build monument .',\n",
              " 'continu honk road vehicl result nois pollut .',\n",
              " 'pollut affect environ harm us , affect health caus variou cardiac respiratori diseas .',\n",
              " 'if environment pollut control , live earth becom tougher , final , lead destruct humankind .']"
            ]
          },
          "metadata": {},
          "execution_count": 18
        }
      ]
    },
    {
      "cell_type": "code",
      "source": [
        "corpus = \"\"\"The living and the non-living together constitute the environment. Environment makes life possible on earth, providing the means for existence. However, living beings do not appreciate the environment well enough. Environmental health is on a rapid decline. What started with using natural resources like wood, fossil fuels, and water balance has gotten so out of hand that natural resources are at the brink of vanishing forever.\n",
        "\n",
        "Pollution caused by man is the most significant reason for the environment’s degradation. Water, land, soil, and noise pollution are toxic to the environment. Throwing out garbage here and there, washing clothes and dishes in the pond and river water using chemical soap causes water pollution. As a result, the creatures living in the water end up dying.\n",
        "\n",
        "The increase in vehicles on the road causes air pollution, and it causes a spike in gases like CO2 and SO2 (greenhouse gases) that cause acid rain, which destroys buildings and monuments. Continuous honking on the roads by vehicles results in noise pollution. Pollution affects the environment and harms us, and it affects our health and causes various cardiac and respiratory diseases. If environmental pollution is not controlled, living on earth will become tougher, and finally, it will lead to the destruction of humankind.\n",
        "\"\"\"\n",
        "corpus\n",
        "sentences = nltk.sent_tokenize(corpus)\n",
        "sentences"
      ],
      "metadata": {
        "colab": {
          "base_uri": "https://localhost:8080/"
        },
        "id": "2clrADyVNmtF",
        "outputId": "c63fc3c2-4d14-403d-95dd-2a5ce7e9e2c3"
      },
      "execution_count": 19,
      "outputs": [
        {
          "output_type": "execute_result",
          "data": {
            "text/plain": [
              "['The living and the non-living together constitute the environment.',\n",
              " 'Environment makes life possible on earth, providing the means for existence.',\n",
              " 'However, living beings do not appreciate the environment well enough.',\n",
              " 'Environmental health is on a rapid decline.',\n",
              " 'What started with using natural resources like wood, fossil fuels, and water balance has gotten so out of hand that natural resources are at the brink of vanishing forever.',\n",
              " 'Pollution caused by man is the most significant reason for the environment’s degradation.',\n",
              " 'Water, land, soil, and noise pollution are toxic to the environment.',\n",
              " 'Throwing out garbage here and there, washing clothes and dishes in the pond and river water using chemical soap causes water pollution.',\n",
              " 'As a result, the creatures living in the water end up dying.',\n",
              " 'The increase in vehicles on the road causes air pollution, and it causes a spike in gases like CO2 and SO2 (greenhouse gases) that cause acid rain, which destroys buildings and monuments.',\n",
              " 'Continuous honking on the roads by vehicles results in noise pollution.',\n",
              " 'Pollution affects the environment and harms us, and it affects our health and causes various cardiac and respiratory diseases.',\n",
              " 'If environmental pollution is not controlled, living on earth will become tougher, and finally, it will lead to the destruction of humankind.']"
            ]
          },
          "metadata": {},
          "execution_count": 19
        }
      ]
    },
    {
      "cell_type": "code",
      "source": [
        "from nltk.stem import SnowballStemmer\n",
        "SnowballStemmer = SnowballStemmer('english')\n",
        "for i in range(len(sentences)):\n",
        "  words = nltk.word_tokenize(sentences[i])\n",
        "  words = [SnowballStemmer.stem(word) for word in words if word not in set(stopwords.words('english'))]\n",
        "  sentences[i] = ' '.join(words)"
      ],
      "metadata": {
        "id": "WXMQyYibNWwB"
      },
      "execution_count": 22,
      "outputs": []
    },
    {
      "cell_type": "code",
      "source": [
        "sentences"
      ],
      "metadata": {
        "colab": {
          "base_uri": "https://localhost:8080/"
        },
        "id": "Bxeut7xmOlYy",
        "outputId": "379fae3d-436b-4e5e-9bbd-981037a40a15"
      },
      "execution_count": 23,
      "outputs": [
        {
          "output_type": "execute_result",
          "data": {
            "text/plain": [
              "['live non-liv togeth constitut environ .',\n",
              " 'environ make life possibl earth , provid mean exist .',\n",
              " 'howev , live appreci environ well enough .',\n",
              " 'environ health rapid declin .',\n",
              " 'start use natur resourc like wood , fossil fuel , water balanc gotten hand natur resourc brink vanish forev .',\n",
              " 'pollut caus man signif reason environ ’ degrad .',\n",
              " 'water , land , soil , noi pollut toxic environ .',\n",
              " 'throw garbag , wash cloth dish pond river water use chemic soap caus water pollut .',\n",
              " 'result , creatur live water end die .',\n",
              " 'increa vehicl road caus air pollut , caus spike gase like co2 so2 ( greenhous gase ) caus acid rain , destroy build monument .',\n",
              " 'continu honk road vehicl result noi pollut .',\n",
              " 'pollut affect environ harm us , affect health caus variou cardiac respiratori disea .',\n",
              " 'environ pollut control , live earth becom tougher , final , lead destruct humankind .']"
            ]
          },
          "metadata": {},
          "execution_count": 23
        }
      ]
    },
    {
      "cell_type": "markdown",
      "source": [
        "Snowball converts all to small letters as if not it may be considered a separate word making it difficult for model to get trained"
      ],
      "metadata": {
        "id": "JgMOlnpcO9J9"
      }
    },
    {
      "cell_type": "code",
      "source": [
        "corpus = \"\"\"The living and the non-living together constitute the environment. Environment makes life possible on earth, providing the means for existence. However, living beings do not appreciate the environment well enough. Environmental health is on a rapid decline. What started with using natural resources like wood, fossil fuels, and water balance has gotten so out of hand that natural resources are at the brink of vanishing forever.\n",
        "\n",
        "Pollution caused by man is the most significant reason for the environment’s degradation. Water, land, soil, and noise pollution are toxic to the environment. Throwing out garbage here and there, washing clothes and dishes in the pond and river water using chemical soap causes water pollution. As a result, the creatures living in the water end up dying.\n",
        "\n",
        "The increase in vehicles on the road causes air pollution, and it causes a spike in gases like CO2 and SO2 (greenhouse gases) that cause acid rain, which destroys buildings and monuments. Continuous honking on the roads by vehicles results in noise pollution. Pollution affects the environment and harms us, and it affects our health and causes various cardiac and respiratory diseases. If environmental pollution is not controlled, living on earth will become tougher, and finally, it will lead to the destruction of humankind.\n",
        "\"\"\"\n",
        "corpus\n",
        "sentences = nltk.sent_tokenize(corpus)\n",
        "sentences"
      ],
      "metadata": {
        "colab": {
          "base_uri": "https://localhost:8080/"
        },
        "id": "MgvJT5S-RR9Q",
        "outputId": "27ed58dc-db1d-4a22-cf4d-e9f8fd513ba7"
      },
      "execution_count": 33,
      "outputs": [
        {
          "output_type": "execute_result",
          "data": {
            "text/plain": [
              "['The living and the non-living together constitute the environment.',\n",
              " 'Environment makes life possible on earth, providing the means for existence.',\n",
              " 'However, living beings do not appreciate the environment well enough.',\n",
              " 'Environmental health is on a rapid decline.',\n",
              " 'What started with using natural resources like wood, fossil fuels, and water balance has gotten so out of hand that natural resources are at the brink of vanishing forever.',\n",
              " 'Pollution caused by man is the most significant reason for the environment’s degradation.',\n",
              " 'Water, land, soil, and noise pollution are toxic to the environment.',\n",
              " 'Throwing out garbage here and there, washing clothes and dishes in the pond and river water using chemical soap causes water pollution.',\n",
              " 'As a result, the creatures living in the water end up dying.',\n",
              " 'The increase in vehicles on the road causes air pollution, and it causes a spike in gases like CO2 and SO2 (greenhouse gases) that cause acid rain, which destroys buildings and monuments.',\n",
              " 'Continuous honking on the roads by vehicles results in noise pollution.',\n",
              " 'Pollution affects the environment and harms us, and it affects our health and causes various cardiac and respiratory diseases.',\n",
              " 'If environmental pollution is not controlled, living on earth will become tougher, and finally, it will lead to the destruction of humankind.']"
            ]
          },
          "metadata": {},
          "execution_count": 33
        }
      ]
    },
    {
      "cell_type": "code",
      "source": [
        "#Lemmatization\n",
        "import nltk\n",
        "nltk.download('wordnet')\n",
        "from nltk.stem import WordNetLemmatizer\n",
        "Lemmatizer = WordNetLemmatizer()\n",
        "for i in range(len(sentences)):\n",
        "  words = nltk.word_tokenize(sentences[i])\n",
        "  words = [Lemmatizer.lemmatize(word) for word in words if word not in set(stopwords.words('english'))]\n",
        "  sentences[i] = ' '.join(words)\n"
      ],
      "metadata": {
        "colab": {
          "base_uri": "https://localhost:8080/"
        },
        "id": "qWOIfZDXPO17",
        "outputId": "4e52c32f-8ee4-44b3-c893-e4f1156717a9"
      },
      "execution_count": 34,
      "outputs": [
        {
          "output_type": "stream",
          "name": "stderr",
          "text": [
            "[nltk_data] Downloading package wordnet to /root/nltk_data...\n",
            "[nltk_data]   Package wordnet is already up-to-date!\n"
          ]
        }
      ]
    },
    {
      "cell_type": "code",
      "source": [
        "sentences"
      ],
      "metadata": {
        "colab": {
          "base_uri": "https://localhost:8080/"
        },
        "id": "ssqsLMNwSjpJ",
        "outputId": "38e9ec8d-4bcd-4fc0-e087-823504db50af"
      },
      "execution_count": 35,
      "outputs": [
        {
          "output_type": "execute_result",
          "data": {
            "text/plain": [
              "['The living non-living together constitute environment .',\n",
              " 'Environment make life possible earth , providing mean existence .',\n",
              " 'However , living being appreciate environment well enough .',\n",
              " 'Environmental health rapid decline .',\n",
              " 'What started using natural resource like wood , fossil fuel , water balance gotten hand natural resource brink vanishing forever .',\n",
              " 'Pollution caused man significant reason environment ’ degradation .',\n",
              " 'Water , land , soil , noise pollution toxic environment .',\n",
              " 'Throwing garbage , washing clothes dish pond river water using chemical soap cause water pollution .',\n",
              " 'As result , creature living water end dying .',\n",
              " 'The increase vehicle road cause air pollution , cause spike gas like CO2 SO2 ( greenhouse gas ) cause acid rain , destroys building monument .',\n",
              " 'Continuous honking road vehicle result noise pollution .',\n",
              " 'Pollution affect environment harm u , affect health cause various cardiac respiratory disease .',\n",
              " 'If environmental pollution controlled , living earth become tougher , finally , lead destruction humankind .']"
            ]
          },
          "metadata": {},
          "execution_count": 35
        }
      ]
    },
    {
      "cell_type": "markdown",
      "source": [
        "if we put posttag as 'v', then we would get more good result because it considers most words as verbs"
      ],
      "metadata": {
        "id": "YT9q6ei6StAb"
      }
    },
    {
      "cell_type": "code",
      "source": [
        "corpus = \"\"\"The living and the non-living together constitute the environment. Environment makes life possible on earth, providing the means for existence. However, living beings do not appreciate the environment well enough. Environmental health is on a rapid decline. What started with using natural resources like wood, fossil fuels, and water balance has gotten so out of hand that natural resources are at the brink of vanishing forever.\n",
        "\n",
        "Pollution caused by man is the most significant reason for the environment’s degradation. Water, land, soil, and noise pollution are toxic to the environment. Throwing out garbage here and there, washing clothes and dishes in the pond and river water using chemical soap causes water pollution. As a result, the creatures living in the water end up dying.\n",
        "\n",
        "The increase in vehicles on the road causes air pollution, and it causes a spike in gases like CO2 and SO2 (greenhouse gases) that cause acid rain, which destroys buildings and monuments. Continuous honking on the roads by vehicles results in noise pollution. Pollution affects the environment and harms us, and it affects our health and causes various cardiac and respiratory diseases. If environmental pollution is not controlled, living on earth will become tougher, and finally, it will lead to the destruction of humankind.\n",
        "\"\"\"\n",
        "corpus\n",
        "sentences = nltk.sent_tokenize(corpus)\n",
        "sentences"
      ],
      "metadata": {
        "colab": {
          "base_uri": "https://localhost:8080/"
        },
        "id": "oc4o0_zyS9FT",
        "outputId": "247c254d-3e2f-4815-cdaf-88730b9ff373"
      },
      "execution_count": 29,
      "outputs": [
        {
          "output_type": "execute_result",
          "data": {
            "text/plain": [
              "['The living and the non-living together constitute the environment.',\n",
              " 'Environment makes life possible on earth, providing the means for existence.',\n",
              " 'However, living beings do not appreciate the environment well enough.',\n",
              " 'Environmental health is on a rapid decline.',\n",
              " 'What started with using natural resources like wood, fossil fuels, and water balance has gotten so out of hand that natural resources are at the brink of vanishing forever.',\n",
              " 'Pollution caused by man is the most significant reason for the environment’s degradation.',\n",
              " 'Water, land, soil, and noise pollution are toxic to the environment.',\n",
              " 'Throwing out garbage here and there, washing clothes and dishes in the pond and river water using chemical soap causes water pollution.',\n",
              " 'As a result, the creatures living in the water end up dying.',\n",
              " 'The increase in vehicles on the road causes air pollution, and it causes a spike in gases like CO2 and SO2 (greenhouse gases) that cause acid rain, which destroys buildings and monuments.',\n",
              " 'Continuous honking on the roads by vehicles results in noise pollution.',\n",
              " 'Pollution affects the environment and harms us, and it affects our health and causes various cardiac and respiratory diseases.',\n",
              " 'If environmental pollution is not controlled, living on earth will become tougher, and finally, it will lead to the destruction of humankind.']"
            ]
          },
          "metadata": {},
          "execution_count": 29
        }
      ]
    },
    {
      "cell_type": "code",
      "source": [
        "for i in range(len(sentences)):\n",
        "  words = nltk.word_tokenize(sentences[i])\n",
        "  words = [Lemmatizer.lemmatize(word.lower()) for word in words if word not in set(stopwords.words('english'))]\n",
        "  sentences[i] = ' '.join(words)"
      ],
      "metadata": {
        "id": "TRsV-aQpTAtu"
      },
      "execution_count": 37,
      "outputs": []
    },
    {
      "cell_type": "code",
      "source": [
        "sentences"
      ],
      "metadata": {
        "colab": {
          "base_uri": "https://localhost:8080/"
        },
        "id": "2z0fyKKmUHoG",
        "outputId": "6ee67c86-66d5-4323-c323-6d2bfa2d78ba"
      },
      "execution_count": 38,
      "outputs": [
        {
          "output_type": "execute_result",
          "data": {
            "text/plain": [
              "['the living non-living together constitute environment .',\n",
              " 'environment make life possible earth , providing mean existence .',\n",
              " 'however , living appreciate environment well enough .',\n",
              " 'environmental health rapid decline .',\n",
              " 'what started using natural resource like wood , fossil fuel , water balance gotten hand natural resource brink vanishing forever .',\n",
              " 'pollution caused man significant reason environment ’ degradation .',\n",
              " 'water , land , soil , noise pollution toxic environment .',\n",
              " 'throwing garbage , washing clothes dish pond river water using chemical soap cause water pollution .',\n",
              " 'a result , creature living water end dying .',\n",
              " 'the increase vehicle road cause air pollution , cause spike gas like co2 so2 ( greenhouse gas ) cause acid rain , destroys building monument .',\n",
              " 'continuous honking road vehicle result noise pollution .',\n",
              " 'pollution affect environment harm u , affect health cause various cardiac respiratory disease .',\n",
              " 'if environmental pollution controlled , living earth become tougher , finally , lead destruction humankind .']"
            ]
          },
          "metadata": {},
          "execution_count": 38
        }
      ]
    }
  ]
}